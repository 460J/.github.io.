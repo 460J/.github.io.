{
 "cells": [
  {
   "cell_type": "markdown",
   "id": "34c2cc1d",
   "metadata": {},
   "source": [
    "# Week 1: Getting started with Anaconda, Jupyter Notebook and Python"
   ]
  },
  {
   "cell_type": "markdown",
   "id": "549abb01",
   "metadata": {},
   "source": [
    "a) Why you chose to join this course – for, motivation, vision, aspiration?\n",
    "\n",
    "I chose to join this course because for the past two years I have enjoyed many aspects of what I have learned so far. Each topic is encouraging me to use my creativity and skill to excel in this course, hopefully to find a job in the future that focuses on this field of expertise."
   ]
  },
  {
   "cell_type": "markdown",
   "id": "e83a3f52",
   "metadata": {},
   "source": [
    "b) Prior experience, if any, you have with AI and/or Python, and, \n",
    "\n",
    "I have prior knowledge of html but no experience with Python. So I am willing to learn as much as possible."
   ]
  },
  {
   "cell_type": "markdown",
   "id": "ecd03930",
   "metadata": {},
   "source": [
    "c) What you expect to learn from the course (aim for 3-5 bullet points)\n",
    "\n",
    "- To have a better understanding of AI, how it can be useful or dangerous.\n",
    "- To be able to use Python effectively.\n",
    "- To have a conclusive opinion about Ai with my new knowledge. "
   ]
  },
  {
   "cell_type": "code",
   "execution_count": null,
   "id": "0b8d1b67",
   "metadata": {},
   "outputs": [],
   "source": [
    "intro = (\" Hello, World \")\n",
    "print (intro)"
   ]
  },
  {
   "cell_type": "code",
   "execution_count": null,
   "id": "bc026b75",
   "metadata": {},
   "outputs": [],
   "source": [
    "from IPython.display import*"
   ]
  },
  {
   "cell_type": "code",
   "execution_count": null,
   "id": "1e67c599",
   "metadata": {},
   "outputs": [],
   "source": [
    "YouTubeVideo (\"Q2JLmAx6drs\")"
   ]
  },
  {
   "cell_type": "code",
   "execution_count": null,
   "id": "e358b067",
   "metadata": {},
   "outputs": [],
   "source": [
    "import webbrowser\n",
    "import requests\n",
    "print(\"Shall we hunt down an old website?\")\n",
    "site = input(\"Type a website URL: \")\n",
    "era = input(\"Type year, month, and date, e.g., 20150613: \")\n",
    "url = \"http://archive.org/wayback/available?url=%s&timestamp=%s\" % (site, era)\n",
    "response = requests.get(url)\n",
    "data = response.json()\n",
    "try:\n",
    "    old_site = data[\"archived_snapshots\"][\"closest\"][\"url\"]\n",
    "    print(\"Found this copy: \", old_site)\n",
    "    print(\"It should appear in your browser.\")\n",
    "    webbrowser.open(old_site)\n",
    "except:\n",
    "    print(\"Sorry, could not find the site.\")\n"
   ]
  },
  {
   "cell_type": "markdown",
   "id": "76b86f57",
   "metadata": {},
   "source": [
    "# Week 2: Exploring Data in Multiple Ways"
   ]
  },
  {
   "cell_type": "code",
   "execution_count": null,
   "id": "4e1fa91b",
   "metadata": {},
   "outputs": [],
   "source": [
    "from IPython.display import*"
   ]
  },
  {
   "cell_type": "code",
   "execution_count": null,
   "id": "f6081b53",
   "metadata": {},
   "outputs": [],
   "source": [
    "Image (\"picture1.jpg\")"
   ]
  },
  {
   "cell_type": "code",
   "execution_count": null,
   "id": "1982dabe",
   "metadata": {},
   "outputs": [],
   "source": [
    "from IPython.display import*"
   ]
  },
  {
   "cell_type": "code",
   "execution_count": null,
   "id": "59d9ba7d",
   "metadata": {},
   "outputs": [],
   "source": [
    "Audio (\"audio1.mid\")"
   ]
  },
  {
   "cell_type": "code",
   "execution_count": null,
   "id": "a743ef1a",
   "metadata": {},
   "outputs": [],
   "source": [
    "from IPython.display import*"
   ]
  },
  {
   "cell_type": "code",
   "execution_count": null,
   "id": "e140b2b6",
   "metadata": {},
   "outputs": [],
   "source": [
    "Audio (\"audio2.ogg\")"
   ]
  },
  {
   "cell_type": "code",
   "execution_count": null,
   "id": "53b98f96",
   "metadata": {
    "scrolled": true
   },
   "outputs": [],
   "source": [
    "# The sound file audio2.ogg is owned by Artoffuge Mehmet Okonsar.\n",
    "# This file is licensed under the Creative Commons Attribution-Share Alike 3.0 Unported license.\n",
    "# The original ogg file was found at the url: \n",
    "url= https://en.wikipedia.org/wiki/File:GoldbergVariations_MehmetOkonsar-1of3_Var1to10.ogg"
   ]
  },
  {
   "cell_type": "code",
   "execution_count": null,
   "id": "9c7ccd93",
   "metadata": {},
   "outputs": [],
   "source": [
    "from matplotlib import pyplot\n",
    "test_picture = pyplot.imread(\"picture1.jpg\")\n",
    "print(\"Numpy array of the image is: \", test_picture)\n",
    "pyplot.imshow(test_picture)"
   ]
  },
  {
   "cell_type": "markdown",
   "id": "d99ebf17",
   "metadata": {},
   "source": [
    "# Week Three: Exploring Scikit-learn"
   ]
  },
  {
   "cell_type": "code",
   "execution_count": null,
   "id": "9b4fb36e",
   "metadata": {},
   "outputs": [],
   "source": [
    "from sklearn import datasets"
   ]
  },
  {
   "cell_type": "code",
   "execution_count": null,
   "id": "ed57a3fb",
   "metadata": {},
   "outputs": [],
   "source": [
    "dir(datasets)"
   ]
  },
  {
   "cell_type": "markdown",
   "id": "688bea61",
   "metadata": {},
   "source": [
    "I chose this as it seemed interesting to explore."
   ]
  },
  {
   "cell_type": "code",
   "execution_count": null,
   "id": "723c808d",
   "metadata": {},
   "outputs": [],
   "source": [
    "iris_data = datasets.load_iris()"
   ]
  },
  {
   "cell_type": "code",
   "execution_count": null,
   "id": "5e96e4fd",
   "metadata": {},
   "outputs": [],
   "source": [
    "iris_data.DESCR"
   ]
  },
  {
   "cell_type": "code",
   "execution_count": null,
   "id": "5fc7d1f2",
   "metadata": {},
   "outputs": [],
   "source": [
    "print (iris_data.DESCR)"
   ]
  },
  {
   "cell_type": "code",
   "execution_count": null,
   "id": "13d3e27e",
   "metadata": {},
   "outputs": [],
   "source": [
    "iris_data.feature_names"
   ]
  },
  {
   "cell_type": "code",
   "execution_count": null,
   "id": "f3bc64f9",
   "metadata": {},
   "outputs": [],
   "source": [
    "iris_data.target_names"
   ]
  },
  {
   "cell_type": "code",
   "execution_count": null,
   "id": "21e1e253",
   "metadata": {},
   "outputs": [],
   "source": [
    "from sklearn import datasets\n",
    "import pandas\n",
    "\n",
    "iris_data = datasets.load_iris()\n",
    "\n",
    "iris_dataframe = pandas.DataFrame(data=iris_data['data'], columns = iris_data['feature_names'])"
   ]
  },
  {
   "cell_type": "code",
   "execution_count": null,
   "id": "6252db2e",
   "metadata": {},
   "outputs": [],
   "source": []
  }
 ],
 "metadata": {
  "kernelspec": {
   "display_name": "Python 3 (ipykernel)",
   "language": "python",
   "name": "python3"
  },
  "language_info": {
   "codemirror_mode": {
    "name": "ipython",
    "version": 3
   },
   "file_extension": ".py",
   "mimetype": "text/x-python",
   "name": "python",
   "nbconvert_exporter": "python",
   "pygments_lexer": "ipython3",
   "version": "3.10.13"
  }
 },
 "nbformat": 4,
 "nbformat_minor": 5
}
